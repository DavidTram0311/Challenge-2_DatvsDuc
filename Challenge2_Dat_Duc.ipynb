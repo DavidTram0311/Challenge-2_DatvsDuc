{
  "nbformat": 4,
  "nbformat_minor": 2,
  "metadata": {
    "colab": {
      "name": "Untitled19.ipynb",
      "provenance": [],
      "collapsed_sections": []
    },
    "kernelspec": {
      "name": "python3",
      "display_name": "Python 3.8.8 64-bit ('base': conda)"
    },
    "language_info": {
      "name": "python",
      "version": "3.8.8",
      "mimetype": "text/x-python",
      "codemirror_mode": {
        "name": "ipython",
        "version": 3
      },
      "pygments_lexer": "ipython3",
      "nbconvert_exporter": "python",
      "file_extension": ".py"
    },
    "interpreter": {
      "hash": "42588fd11209419b7c81abe23e31a1d2101f60811b02170c268e57ebb57d5d9a"
    }
  },
  "cells": [
    {
      "cell_type": "code",
      "execution_count": 1,
      "source": [
        "import random \r\n",
        "import cv2\r\n",
        "import pandas as pd \r\n",
        "import matplotlib.pyplot as plt\r\n",
        "from os import listdir\r\n",
        "from os.path import isfile, join\r\n",
        "import numpy as np "
      ],
      "outputs": [],
      "metadata": {
        "id": "4fn7yTBzjrcU"
      }
    },
    {
      "cell_type": "code",
      "execution_count": 2,
      "source": [
        "data_student_name = [file_name for file_name in listdir('data') if isfile(join('data', file_name))]\r\n",
        "alphabet = ['A', 'B', 'C', 'D', 'E']\r\n",
        "W = 600 \r\n",
        "H = 463"
      ],
      "outputs": [],
      "metadata": {
        "id": "IlUPEKKej1I6"
      }
    },
    {
      "cell_type": "code",
      "execution_count": 3,
      "source": [
        "def showImage(image):  \r\n",
        "  plt.imshow(image)\r\n",
        "  plt.show() "
      ],
      "outputs": [],
      "metadata": {
        "id": "S2dCs6paj2ot"
      }
    },
    {
      "cell_type": "code",
      "execution_count": 4,
      "source": [
        "def getImageList(): \r\n",
        "  papers = list()\r\n",
        "  for name in data_student_name:\r\n",
        "    paper = plt.imread('data/'+name)\r\n",
        "    print(paper.shape, name)\r\n",
        "    paper = paper[150:970, :]\r\n",
        "    papers.append(paper)\r\n",
        "  return papers"
      ],
      "outputs": [],
      "metadata": {
        "id": "eSCtxKGTj6Bn"
      }
    },
    {
      "cell_type": "code",
      "execution_count": 7,
      "source": [
        "paper_imgs = getImageList()\r\n"
      ],
      "outputs": [
        {
          "output_type": "stream",
          "name": "stdout",
          "text": [
            "(1024, 791, 3) 2000101_PhamVanThinh_3A.png\n",
            "(1024, 791, 3) 2000102_TranHuuThuc_3A.png\n",
            "(1024, 791, 3) 2000103_TramQuangDat_3A.png\n",
            "(1024, 791, 3) 2000104_PhamTuanKhoa_3A.png\n",
            "(1024, 791, 3) 2000105_LeBaoNguyen_3A.png\n",
            "(1024, 791, 3) 2000106_TruongThiFuc_3A.png\n",
            "(1024, 791, 3) 2000107_TruongGiaBao_3A.png\n",
            "(1024, 791, 3) 2000108_HuynhLuuBao_3A.png\n",
            "(1024, 791, 3) 2000109_HuynhCongHung_3A.png\n",
            "(1024, 791, 3) 2000110_NguyenXungKhac_3A.png\n",
            "(1024, 791, 3) 2000111_TranHuuThien_3A.png\n",
            "(1024, 791, 3) 2000112_NguyenManhTan_3A.png\n",
            "(1024, 791, 3) 2000113_LeVietTien_3A.png\n",
            "(1024, 791, 3) 2000114_BachTung_3A.png\n",
            "(1024, 791, 3) 2000115_TruongTho_3A.png\n",
            "(1024, 791, 4) 2000116_NguyenLamPhat_3A.png\n",
            "(1024, 791, 4) 2000117_PhanHuyLam_3A.png\n",
            "(1024, 791, 4) 2000118_Phantho_3A.png\n",
            "(1024, 791, 4) 2000119_TranLeNgocTram_3A.png\n",
            "(1024, 791, 4) 2000120_NguyenDacTan_3A.png\n",
            "(1024, 791, 4) 2000121_NguyenQuocTuan_3A.png\n",
            "(1024, 791, 4) 2000122_HongHoangNgan_3A.png\n",
            "(1024, 791, 4) 2000123_LeThiThanhAn_3A.png\n",
            "(1024, 791, 4) 2000124_DangHoaiNgoc_3A.png\n",
            "(1024, 791, 4) 2000125_PhanThiThaoVy_3A.png\n",
            "(1024, 791, 4) 2000126_PhanKieuMy_3A.png\n",
            "(1024, 791, 4) 2000127_QuyNuBaoTruc_3A.png\n",
            "(1024, 791, 4) 2000128_DoHoangNgan_3A.png\n",
            "(1024, 791, 4) 2000129_HoCongThanh_3A.png\n",
            "(1024, 791, 4) 2000130_LeThiNhuNgoc_3A.png\n",
            "(1024, 791, 4) 2000131_NguyenManhHung_3A.png\n",
            "(1024, 791, 4) 2000132_TruongMinhHoang_3A.png\n",
            "(1024, 791, 4) 2000133_NguyenVanToan_3A.png\n",
            "(1024, 791, 4) 2000134_HoangThaoMy_3A.png\n",
            "(1024, 791, 4) 2000135_VoHoaiNgoc_3A.png\n",
            "(1024, 791, 4) 2000136_PhanBoiTran_3A.png\n",
            "(1024, 791, 4) 2000137_VuThiMyHanh_3A.png\n",
            "(1024, 791, 4) 2000138_PhamThiMyLinh_3A.png\n",
            "(1024, 791, 4) 2000139_NguyenQuangTri_3A.png\n",
            "(1024, 791, 4) 2000140_NguyenCongHung_3A.png\n",
            "(1024, 791, 4) 2000141_NguyenMinhHieu_3A.png\n",
            "(1024, 791, 4) 2000142_NguyenCongHau_3A.png\n",
            "(1024, 791, 4) 2000143_NguyenThiThuyDuong_3A.png\n",
            "(1024, 791, 4) 2000144_TranHuyTung3A.png\n",
            "(1024, 791, 4) 2000145_DangThanhNga_3A.png\n",
            "(1024, 791, 4) 2000146_DangSang_3A.png\n",
            "(1024, 791, 4) 2000147_NgoThiKhanhLy_3A.png\n",
            "(1024, 791, 4) 2000148_NguyenQuangDu_3A.png\n",
            "(1024, 791, 4) 2000149_NguyenQuangTan_3A.png\n",
            "(1024, 791, 4) 2000150_NguyenThiKimAnh_3A.png\n"
          ]
        }
      ],
      "metadata": {
        "colab": {
          "base_uri": "https://localhost:8080/",
          "height": 830
        },
        "id": "V4BiSd9SkHwh",
        "outputId": "e9b27cf5-5223-47f7-c13b-6d7b30598c3c"
      }
    },
    {
      "cell_type": "code",
      "execution_count": 8,
      "source": [
        "def question2(): \r\n",
        "  data = data_student_name\r\n",
        "  student_list_name = list()\r\n",
        "  for name in data: \r\n",
        "      name = name.replace('.png', '').split('_')\r\n",
        "      if len(name) < 3: \r\n",
        "          print(name)\r\n",
        "          continue\r\n",
        "      student = [name[0], name[1], name[2]]\r\n",
        "      student_list_name.append(student)\r\n",
        "  student_csv = pd.DataFrame(student_list_name, columns=['Student ID', 'Name', 'Code'])\r\n",
        "  student_csv.to_csv('student.csv')\r\n",
        "  return student_list_name"
      ],
      "outputs": [],
      "metadata": {
        "id": "hr0qq06Oj7_j"
      }
    },
    {
      "cell_type": "code",
      "execution_count": 9,
      "source": [
        "student_list_name = question2()"
      ],
      "outputs": [
        {
          "output_type": "stream",
          "name": "stdout",
          "text": [
            "['2000144', 'TranHuyTung3A']\n"
          ]
        }
      ],
      "metadata": {
        "id": "v9kPGXJLj8pW"
      }
    },
    {
      "cell_type": "code",
      "execution_count": 10,
      "source": [
        "def getBowlData(img): \r\n",
        "  root_paper = img\r\n",
        "  # showImage(root_paper)\r\n",
        "  main_row_height = root_paper.shape[0] // 6 \r\n",
        "  y_previous = 0 \r\n",
        "  current_question = 1\r\n",
        "  main_column_index = 0\r\n",
        "  bowl_result = [''] * 60\r\n",
        "  for row_index in range(6): \r\n",
        "    y_pos = main_row_height*row_index+main_row_height\r\n",
        "    paper = root_paper[y_previous:y_pos, :]\r\n",
        "    paper = paper[:, :]\r\n",
        "    if row_index < 5: \r\n",
        "      paper = paper[10:125, :]\r\n",
        "    else: \r\n",
        "      paper = paper[10:130, :]\r\n",
        "    y_previous = y_pos\r\n",
        "    # showImage(paper)\r\n",
        "    center = paper.shape[1] // 2 \r\n",
        "    for i in range(1, 3): \r\n",
        "      target = paper[:, :center] if i == 1 else paper[:, center:]\r\n",
        "      target = target[:, 140:340] if i == 1 else target[:, 100:300]\r\n",
        "      # target = target[13:125, :] if row_index < 5 else target[20:, :]\r\n",
        "      row_height = target.shape[0] // 5 \r\n",
        "      y_previous_row = 0\r\n",
        "      for j in range(5): \r\n",
        "        cur1 = cur2 = 0 \r\n",
        "        if i == 1: \r\n",
        "          cur1 = main_column_index*5+j+1\r\n",
        "        else: \r\n",
        "          cur2 = main_column_index*5+j+30+1\r\n",
        "\r\n",
        "        y_pos_row = row_height*j+row_height\r\n",
        "        row = target[y_previous_row:y_pos_row, :]\r\n",
        "        y_previous_row = y_pos_row \r\n",
        "        row = cv2.cvtColor(row, cv2.COLOR_BGR2GRAY)\r\n",
        "        cols = np.hsplit(row, 5)\r\n",
        "        real_cur = cur1 if i == 1 else cur2\r\n",
        "        for (index, col) in enumerate(cols): \r\n",
        "          # showImage(col)\r\n",
        "          w_p = cv2.countNonZero(col)\r\n",
        "          pixel = col.shape[0]*col.shape[1]\r\n",
        "          # print(real_cur, w_p, pixel)\r\n",
        "          if w_p < pixel: \r\n",
        "            bowl_result[real_cur - 1] = alphabet[index]\r\n",
        "    main_column_index += 1 \r\n",
        "  return bowl_result"
      ],
      "outputs": [],
      "metadata": {
        "id": "2e_-WYeUl315"
      }
    },
    {
      "cell_type": "code",
      "execution_count": 11,
      "source": [
        "def test(): \r\n",
        "  for i in range(len(paper_imgs)): \r\n",
        "    bowl_data = getBowlData(paper_imgs[i])\r\n",
        "    for j in range(len(bowl_data)): \r\n",
        "      if bowl_data[j] == '': \r\n",
        "        print('empty at', j)"
      ],
      "outputs": [],
      "metadata": {
        "id": "zko1-JWIgd8m"
      }
    },
    {
      "cell_type": "code",
      "execution_count": 14,
      "source": [
        "def getAnswerData(): \r\n",
        "  answersheet = plt.imread('3A.png')\r\n",
        "  answersheet = answersheet[150:970, :]\r\n",
        "  bowl_data = getBowlData(answersheet)\r\n",
        "  return bowl_data\r\n",
        "\r\n",
        "answer_data = getAnswerData()\r\n",
        "print(answer_data)"
      ],
      "outputs": [
        {
          "output_type": "stream",
          "name": "stdout",
          "text": [
            "['A', 'C', 'D', 'D', 'B', 'B', 'C', 'D', 'C', 'C', 'B', 'C', 'D', 'A', 'A', 'B', 'B', 'C', 'D', 'C', 'B', 'C', 'C', 'C', 'E', 'B', 'C', 'C', 'B', 'B', 'B', 'C', 'B', 'A', 'E', 'A', 'D', 'A', 'E', 'D', 'C', 'D', 'E', 'A', 'C', 'C', 'B', 'A', 'A', 'C', 'B', 'B', 'E', 'E', 'D', 'A', 'A', 'B', 'C', 'C']\n"
          ]
        }
      ],
      "metadata": {
        "colab": {
          "base_uri": "https://localhost:8080/"
        },
        "id": "5Uz4Q_rPjaMi",
        "outputId": "6f7ee516-cccd-47c5-a883-607cc65cf68a"
      }
    },
    {
      "cell_type": "code",
      "execution_count": 15,
      "source": [
        "def scoreGrading(bowl_data, answer_data): \r\n",
        "  score = 0\r\n",
        "  correct_table = [0] * 60\r\n",
        "  for i in range(len(bowl_data)): \r\n",
        "    if bowl_data[i] == answer_data[i]: \r\n",
        "      score += 1 \r\n",
        "      correct_table[i] = 1 \r\n",
        "  return (score, correct_table)"
      ],
      "outputs": [],
      "metadata": {
        "id": "9CyA9UBGkr3W"
      }
    },
    {
      "cell_type": "code",
      "execution_count": 16,
      "source": [
        "def question3(): \r\n",
        "  r_idx = random.randint(0, len(paper_imgs) - 1)\r\n",
        "  student = student_list_name[r_idx].copy()\r\n",
        "  paper = paper_imgs[r_idx]\r\n",
        "  bowl_data = getBowlData(paper)\r\n",
        "  for i in range(5): \r\n",
        "    student.append(bowl_data[i])\r\n",
        "  columns = ['ID', 'Name', 'Code']\r\n",
        "  for i in range(5): columns.append('Q'+str(i+1))\r\n",
        "  info = pd.DataFrame([student], columns=columns)\r\n",
        "  print(info)\r\n",
        "question3()"
      ],
      "outputs": [
        {
          "output_type": "stream",
          "name": "stdout",
          "text": [
            "        ID      Name Code Q1 Q2 Q3 Q4 Q5\n",
            "0  2000146  DangSang   3A  B  A  C  C  E\n"
          ]
        }
      ],
      "metadata": {
        "colab": {
          "base_uri": "https://localhost:8080/"
        },
        "id": "wKdJc9R3U80m",
        "outputId": "2414b104-7b4f-4312-f13b-dfe0e44d489a"
      }
    },
    {
      "cell_type": "code",
      "execution_count": 17,
      "source": [
        "def question4(): \r\n",
        "  r_idx = random.randint(0, len(paper_imgs) - 1)\r\n",
        "  student = student_list_name[r_idx].copy()\r\n",
        "  paper = paper_imgs[r_idx]\r\n",
        "  bowl_data = getBowlData(paper)\r\n",
        "  for i in range(len(bowl_data)): \r\n",
        "    student.append(bowl_data[i])\r\n",
        "  columns = ['ID', 'Name', 'Code']\r\n",
        "  for i in range(60): columns.append('Q'+str(i+1))\r\n",
        "  info = pd.DataFrame([student], columns=columns)\r\n",
        "  print(info)\r\n",
        "question4()"
      ],
      "outputs": [
        {
          "output_type": "stream",
          "name": "stdout",
          "text": [
            "        ID          Name Code Q1 Q2 Q3 Q4 Q5 Q6 Q7  ... Q51 Q52 Q53 Q54 Q55  \\\n",
            "0  2000103  TramQuangDat   3A  B  D  C  A  E  A  C  ...   C   D   D   B   E   \n",
            "\n",
            "  Q56 Q57 Q58 Q59 Q60  \n",
            "0   A   E   E   C   D  \n",
            "\n",
            "[1 rows x 63 columns]\n"
          ]
        }
      ],
      "metadata": {
        "colab": {
          "base_uri": "https://localhost:8080/"
        },
        "id": "uZTav3-FjMEE",
        "outputId": "9d36a815-d086-415a-eb12-89baadb69499"
      }
    },
    {
      "cell_type": "code",
      "execution_count": 18,
      "source": [
        "def question5(): \r\n",
        "  global answer_data\r\n",
        "  students = student_list_name.copy()\r\n",
        "  columns = ['ID', 'Name', 'Code', 'Score']\r\n",
        "  student_data_list = list()\r\n",
        "  correct_list = [0]*60\r\n",
        "  for student_index in range(len(students)): \r\n",
        "    student = students[student_index].copy()\r\n",
        "    paper = paper_imgs[student_index]\r\n",
        "    bowl_data = getBowlData(paper)\r\n",
        "    # for i in range(len(bowl_data)): \r\n",
        "    #   student.append(bowl_data[i])\r\n",
        "    (score, correct_table) = scoreGrading(bowl_data=bowl_data, answer_data=answer_data)\r\n",
        "    for i in range(len(correct_table)): \r\n",
        "      if correct_table[i]: \r\n",
        "        correct_list[i] += 1 \r\n",
        "\r\n",
        "    student.append(score)\r\n",
        "    student_data_list.append(student)\r\n",
        "  grading_info = pd.DataFrame(student_data_list, columns=columns)\r\n",
        "  grading_info.to_csv('grading.csv')\r\n",
        "  return (student_data_list, correct_list)\r\n",
        "\r\n",
        "(student_grading_list, correct_list) = question5()"
      ],
      "outputs": [],
      "metadata": {
        "id": "xBiQAJ86kFWe"
      }
    },
    {
      "cell_type": "code",
      "execution_count": 19,
      "source": [
        "def question6(): \r\n",
        "  table = correct_list.copy()\r\n",
        "  for i in range(len(table)): \r\n",
        "    table[i] = {'q': i + 1, 'a': table[i]}\r\n",
        "  for i in range(len(table)): \r\n",
        "    for j in range(i + 1, len(table)): \r\n",
        "      if  table[i]['a'] > table[j]['a']: \r\n",
        "        tmp = table[i]\r\n",
        "        table[i] = table[j]\r\n",
        "        table[j] = tmp\r\n",
        "\r\n",
        "  print(table)\r\n",
        "  three_most_dff = [item['q'] for item in table[:3]]\r\n",
        "  print('Three most difficult questions: ', \", \".join([str(item) for item in three_most_dff]))\r\n",
        "\r\n",
        "question6()"
      ],
      "outputs": [
        {
          "output_type": "stream",
          "name": "stdout",
          "text": [
            "[{'q': 36, 'a': 3}, {'q': 39, 'a': 4}, {'q': 43, 'a': 6}, {'q': 38, 'a': 9}, {'q': 32, 'a': 9}, {'q': 31, 'a': 9}, {'q': 52, 'a': 9}, {'q': 45, 'a': 10}, {'q': 30, 'a': 10}, {'q': 55, 'a': 10}, {'q': 59, 'a': 10}, {'q': 51, 'a': 11}, {'q': 41, 'a': 12}, {'q': 42, 'a': 13}, {'q': 22, 'a': 14}, {'q': 3, 'a': 14}, {'q': 57, 'a': 14}, {'q': 15, 'a': 14}, {'q': 19, 'a': 15}, {'q': 46, 'a': 15}, {'q': 21, 'a': 15}, {'q': 5, 'a': 15}, {'q': 53, 'a': 15}, {'q': 35, 'a': 15}, {'q': 23, 'a': 15}, {'q': 58, 'a': 15}, {'q': 44, 'a': 15}, {'q': 34, 'a': 17}, {'q': 14, 'a': 17}, {'q': 33, 'a': 17}, {'q': 60, 'a': 17}, {'q': 13, 'a': 18}, {'q': 37, 'a': 18}, {'q': 4, 'a': 18}, {'q': 2, 'a': 18}, {'q': 24, 'a': 18}, {'q': 10, 'a': 18}, {'q': 50, 'a': 19}, {'q': 28, 'a': 20}, {'q': 47, 'a': 20}, {'q': 48, 'a': 20}, {'q': 18, 'a': 20}, {'q': 54, 'a': 21}, {'q': 26, 'a': 21}, {'q': 9, 'a': 22}, {'q': 29, 'a': 22}, {'q': 8, 'a': 22}, {'q': 11, 'a': 23}, {'q': 27, 'a': 23}, {'q': 16, 'a': 24}, {'q': 49, 'a': 24}, {'q': 12, 'a': 25}, {'q': 20, 'a': 25}, {'q': 25, 'a': 25}, {'q': 17, 'a': 26}, {'q': 40, 'a': 27}, {'q': 1, 'a': 31}, {'q': 56, 'a': 32}, {'q': 7, 'a': 37}, {'q': 6, 'a': 39}]\n",
            "Three most difficult questions:  36, 39, 43\n"
          ]
        }
      ],
      "metadata": {
        "colab": {
          "base_uri": "https://localhost:8080/"
        },
        "id": "zjFUcWoynnyv",
        "outputId": "5d8f7ec6-e0ae-4bee-f385-b4e191725502"
      }
    },
    {
      "cell_type": "code",
      "execution_count": 20,
      "source": [
        "def question7(): \r\n",
        "  amount_pass = 0\r\n",
        "  for i in range(len(student_grading_list)): \r\n",
        "    if student_grading_list[i][-1] >= 30: \r\n",
        "      amount_pass += 1 \r\n",
        "  print(\"Final result: Pass \") if (amount_pass/len(student_list_name)*100) > 50.0 else print('Final result: Failed')\r\n",
        "question7()"
      ],
      "outputs": [
        {
          "output_type": "stream",
          "name": "stdout",
          "text": [
            "Final result: Failed\n"
          ]
        }
      ],
      "metadata": {
        "colab": {
          "base_uri": "https://localhost:8080/",
          "height": 313
        },
        "id": "YbTFl7W0ouin",
        "outputId": "a6c3679f-bb6d-44bb-8ee3-6bfa3a2b74ab"
      }
    },
    {
      "cell_type": "code",
      "execution_count": 21,
      "source": [
        "question7()"
      ],
      "outputs": [
        {
          "output_type": "stream",
          "name": "stdout",
          "text": [
            "Final result: Failed\n"
          ]
        }
      ],
      "metadata": {
        "id": "hAxyNsaCzoRN"
      }
    },
    {
      "cell_type": "code",
      "execution_count": null,
      "source": [],
      "outputs": [],
      "metadata": {}
    }
  ]
}