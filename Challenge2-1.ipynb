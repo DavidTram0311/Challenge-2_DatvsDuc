{
    "cells": [
        {
            "cell_type": "code",
            "execution_count": null,
            "source": [
                "import cv2\r\n",
                "import numpy as np\r\n",
                "import matplotlib.pylab as plt\r\n",
                "img = cv2.imread(\"20030001_PhamVanKhoa_A1.jpg\")\r\n",
                "cv2.imshow(\"Origin\", img)\r\n",
                "cv2.waitKey(0)\r\n",
                "cv2.destroyAllWindows()\r\n",
                "img_contour = img.copy()"
            ],
            "outputs": [],
            "metadata": {}
        },
        {
            "cell_type": "code",
            "execution_count": null,
            "source": [
                "## Preprocessing image\r\n",
                "img = cv2.imread(\"C:/test/20030001_PhamVanKhoa_A1.jpg\")\r\n",
                "img_gray = cv2.cvtColor(img, cv2.COLOR_BGR2GRAY)\r\n",
                "img_blur = cv2.GaussianBlur(img_gray, (5, 5), 1)\r\n",
                "img_canny = cv2.Canny(img_blur, 10, 50)\r\n",
                "thresh = cv2.adaptiveThreshold(\r\n",
                "    img_blur, 255, cv2.ADAPTIVE_THRESH_GAUSSIAN_C, cv2.THRESH_BINARY_INV, 31, 3)\r\n",
                "cv2.imshow(\"Binary\", thresh)\r\n",
                "cv2.waitKey()\r\n"
            ],
            "outputs": [],
            "metadata": {}
        },
        {
            "cell_type": "code",
            "execution_count": null,
            "source": [
                "#Find box of the answer\r\n",
                "contours, _ = cv2.findContours(\r\n",
                "    img_canny, cv2.RETR_EXTERNAL, cv2.CHAIN_APPROX_NONE)\r\n",
                "contours = sorted(contours, key=lambda x: cv2.contourArea(x), reverse=True)\r\n",
                "approx = cv2.approxPolyDP(\r\n",
                "    contours[1], 0.01 * cv2.arcLength(contours[1], True), True)\r\n",
                "rect = cv2.minAreaRect(contours[1])\r\n",
                "box = cv2.boxPoints(rect)\r\n",
                "\r\n",
                "img_contour = img.copy()\r\n",
                "cv2.drawContours(img_contour, contours, -1, (0, 255, 0), 1)\r\n",
                "cv2.imshow(\"contour\", img_contour)\r\n",
                "cv2.waitKey(0)"
            ],
            "outputs": [],
            "metadata": {}
        },
        {
            "cell_type": "code",
            "execution_count": null,
            "source": [
                "import csv\r\n",
                "with open(\"20030001_PhamVanKhoa_A1.csv\", \"w\", newline=\"\") as f:\r\n",
                "    list = [[\"Number\", \"Answer\"], [\"1\", \"A\"], [\"2\", \"B\"], [\"3\", \"C\"], [\"4\", \"B\"], [\"5\", \"E\"], [\"6\", \"C\"], [\"7\", \"B\"], [\"8\", \"B\"], [\"9\", \"A\"],\r\n",
                "            [\"10\", \"D\"], [\"11\", \"E\"], [\"12\", \"D\"], [\"13\", \"D\"], [\"14\", \"C\"], [\"15\", \"A\"], [\r\n",
                "                \"16\", \"A\"], [\"17\", \"B\"], [\"18\", \"D\"], [\"19\", \"D\"], [\"20\", \"C\"],\r\n",
                "            [\"21\", \"E\"], [\"22\", \"A\"], [\"23\", \"B\"], [\"24\", \"D\"], [\"25\", \"C\"], [\"26\", \"A\"], [\r\n",
                "                \"27\", \"C\"], [\"28\", \"D\"], [\"29\", \"A\"], [\"30\", \"E\"], [\"31\", \"A\"],\r\n",
                "            [\"32\", \"B\"], [\"33\", \"d\"], [\"34\", \"C\"], [\"35\", \"B\"], [\"36\", \"A\"], [\"37\", \"B\"], [\r\n",
                "                \"38\", \"E\"], [\"39\", \"C\"], [\"40\", \"B\"], [\"41\", \"C\"], [\"42\", \"B\"],\r\n",
                "            [\"43\", \"D\"], [\"44\", \"A\"], [\"45\", \"C\"], [\"46\", \"B\"], [\"47\", \"A\"], [\"48\", \"C\"], [\r\n",
                "                \"49\", \"D\"], [\"50\", \"E\"], [\"51\", \"B\"], [\"52\", \"C\"], [\"53\", \"D\"],\r\n",
                "            [\"54\", \"C\"], [\"55\", \"A\"], [\"56\", \"E\"], [\"57\", \"D\"], [\"58\", \"B\"], [\"59\", \"C\"], [\"60\", \"A\"], [\"42\", \"B\"], [\"42\", \"B\"], [\"42\", \"B\"], [\"42\", \"B\"]]\r\n",
                "    writer = csv.writer(f)\r\n",
                "    writer.writerows(list)"
            ],
            "outputs": [
                {
                    "output_type": "execute_result",
                    "data": {
                        "text/plain": [
                            "(1053, 1920, 4)"
                        ]
                    },
                    "metadata": {},
                    "execution_count": 30
                }
            ],
            "metadata": {}
        },
        {
            "cell_type": "markdown",
            "source": [
                "## Question 2"
            ],
            "metadata": {}
        },
        {
            "cell_type": "code",
            "execution_count": 17,
            "source": [
                "header = ['StudentID', 'Surname', 'Firstname', 'Code by coding']\r\n",
                "filename = \"20030001_PhamVanKhoa_A1.jpg\"\r\n",
                "data = []\r\n",
                "for i in filename:\r\n",
                "    data_element = filename.split(\" _ \")[i]\r\n",
                "    data += data_element\r\n",
                "print(data)\r\n",
                "\r\n",
                "with open('student.csv', 'w', encoding='UTF8') as f:\r\n",
                "    writer = csv.writer(f)\r\n",
                "    # write the header\r\n",
                "    writer.writerow(header)\r\n",
                "    # write the data\r\n",
                "    writer.writerow(data)\r\n"
            ],
            "outputs": [
                {
                    "output_type": "stream",
                    "name": "stdout",
                    "text": [
                        "['2', '0', '0', '3', '0', '0', '0', '1', '_', 'P', 'h', 'a', 'm', 'V', 'a', 'n', 'K', 'h', 'o', 'a', '_', 'A', '1', '.', 'j', 'p', 'g']\n"
                    ]
                }
            ],
            "metadata": {}
        },
        {
            "cell_type": "markdown",
            "source": [
                "## Question 3"
            ],
            "metadata": {}
        },
        {
            "cell_type": "code",
            "execution_count": null,
            "source": [
                "# from random import choice\r\n",
                "import cv2\r\n",
                "import numpy as np\r\n",
                "import matplotlib.pylab as plt\r\n",
                "import csv\r\n",
                "\r\n",
                "img = cv2.imread(\"C:/test/20030001_PhamVanKhoa_A1.jpg\")\r\n",
                "# mask = np.zeros(img.shape[:2], dtype=\"uint8\")\r\n",
                "# cv2.rectangle(mask, (80, 175), (290, 252), 255, -1)\r\n",
                "# cv2.imshow(\"Rectangular Mask\", mask)\r\n",
                "\r\n",
                "# # cropped out\r\n",
                "# masked = cv2.bitwise_and(img, img, mask=mask)\r\n",
                "# cv2.imshow(\"Mask Applied to Image\", masked)\r\n",
                "\r\n",
                "masked = img[690:2800, 430:2100]\r\n",
                "five = masked[0:300, 0: 730]\r\n",
                "\r\n",
                "five = cv2.cvtColor(masked, cv2.COLOR_BGR2GRAY)\r\n",
                "_, threshhold = cv2.threshold(five, 0, 255, cv2.THRESH_BINARY_INV)\r\n",
                "contours, hierachy = cv2.findContours(\r\n",
                "    threshhold, cv2.RETR_TREE, cv2.CHAIN_APPROX_SIMPLE)\r\n",
                "\r\n",
                "choices = []\r\n",
                "\r\n",
                "for cnts in contours:\r\n",
                "    area = cv2.contourArea(cnts)\r\n",
                "    if area > 100:\r\n",
                "        draw = np.round(np.mean(cnts, axis=0)[0]).astype(int)\r\n",
                "        choices.append(draw)\r\n",
                "\r\n",
                "choices.sort(key=lambda x: x[1])\r\n",
                "\r\n",
                "for element in choices:\r\n",
                "    x = choice[0]\r\n",
                "    if 200 < x < 300:\r\n",
                "        print(\"A\", end=' ')\r\n",
                "    if 300 < x < 400:\r\n",
                "        print(\"B\", end=' ')\r\n",
                "    if 400 < x < 500:\r\n",
                "        print(\"C\", end=' ')\r\n",
                "    if 500 < x < 600:\r\n",
                "        print(\"D\", end=' ')"
            ],
            "outputs": [],
            "metadata": {}
        },
        {
            "cell_type": "markdown",
            "source": [
                "## Question 4"
            ],
            "metadata": {}
        },
        {
            "cell_type": "code",
            "execution_count": null,
            "source": [
                "img = cv2.imread(\"C:/test/20030001_PhamVanKhoa_A1.jpg\")\r\n",
                "\r\n",
                "def query_choices(five):\r\n",
                "    global query_answer\r\n",
                "    five = cv2.cvtColor(masked, cv2.COLOR_BGR2GRAY)\r\n",
                "\r\n",
                "    _, threshhold = cv2.threshold(five, 0, 255, cv2.THRESH_BINARY_INV)\r\n",
                "    contours, hierachy = cv2.findContours(\r\n",
                "        threshhold, cv2.RETR_TREE, cv2.CHAIN_APPROX_SIMPLE)\r\n",
                "\r\n",
                "    choices = []\r\n",
                "\r\n",
                "    for cnts in contours:\r\n",
                "        area = cv2.contourArea(cnts)\r\n",
                "        if area > 100:\r\n",
                "            draw = np.round(np.mean(cnts, axis=0)[0]).astype(int)\r\n",
                "            choices.append(draw)\r\n",
                "\r\n",
                "    choices.sort(key=lambda x: x[1])\r\n",
                "\r\n",
                "    for element in choices:\r\n",
                "        x = choice[0]\r\n",
                "        if 200 < x < 300:\r\n",
                "            print(\"A\", end=' ')\r\n",
                "        if 300 < x < 400:\r\n",
                "            print(\"B\", end=' ')\r\n",
                "        if 400 < x < 500:\r\n",
                "            print(\"C\", end=' ')\r\n",
                "        if 500 < x < 600:\r\n",
                "            print(\"D\", end=' ')\r\n",
                "\r\n",
                "\r\n",
                "masked = img[690:2800, 430:2100]\r\n",
                "width, height = 740, 300\r\n",
                "vertical, horizontal = 40, 140\r\n",
                "\r\n",
                "\r\n",
                "horizontal_start = 0\r\n",
                "index = 0\r\n",
                "query_answer = []\r\n",
                "\r\n",
                "for col in range(2):\r\n",
                "    vertical_start = 0\r\n",
                "    for row in range(6):\r\n",
                "        index += 1\r\n",
                "        query_choices(\r\n",
                "            masked[vertical_start:vertical_start + height, horizontal_start:horizontal_start + width])\r\n",
                "        vertical_start = vertical_start + height + vertical\r\n",
                "    horizontal_start = horizontal_start + width + horizontal\r\n",
                "    \r\n",
                "\r\n"
            ],
            "outputs": [],
            "metadata": {}
        },
        {
            "cell_type": "code",
            "execution_count": null,
            "source": [
                "import pandas as pd\r\n",
                "\r\n",
                "pd.set_option('display.max_rows', None)\r\n",
                "answers = pd.DataFrame(index= range(1,61), columns= ['Choice'])\r\n",
                "answers['Choice'] = query_answer\r\n",
                "\r\n",
                "answers"
            ],
            "outputs": [],
            "metadata": {}
        }
    ],
    "metadata": {
        "orig_nbformat": 4,
        "language_info": {
            "name": "python",
            "version": "3.9.5",
            "mimetype": "text/x-python",
            "codemirror_mode": {
                "name": "ipython",
                "version": 3
            },
            "pygments_lexer": "ipython3",
            "nbconvert_exporter": "python",
            "file_extension": ".py"
        },
        "kernelspec": {
            "name": "python3",
            "display_name": "Python 3.9.5 64-bit"
        },
        "interpreter": {
            "hash": "af5ad3dbfd302e244df3bdaa76de19cc114927c8d7b737a1def7a747e4742e51"
        }
    },
    "nbformat": 4,
    "nbformat_minor": 2
}